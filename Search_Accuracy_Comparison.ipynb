{
 "cells": [
  {
   "cell_type": "code",
   "execution_count": null,
   "id": "8f4dea61",
   "metadata": {},
   "outputs": [],
   "source": [
    "for dataset in queries:\n",
    "    for query in queries[dataset]:\n",
    "        base = baseline_results[dataset][query][\"MAP\"]\n",
    "        adv = advanced_results[dataset][query][\"MAP\"]\n",
    "\n",
    "        plt.figure(figsize=(5, 4))\n",
    "        plt.bar([\"Baseline\", \"Advanced\"], [base, adv], color=[\"gray\", \"green\"])\n",
    "        plt.title(f\"MAP Comparison - {query}\")\n",
    "        plt.ylabel(\"MAP Score\")\n",
    "        plt.ylim(0, 1)\n",
    "        plt.show()\n"
   ]
  },
  {
   "cell_type": "code",
   "execution_count": null,
   "id": "79b0c7b0",
   "metadata": {},
   "outputs": [],
   "source": [
    "for dataset in queries:\n",
    "    for query in queries[dataset]:\n",
    "        print(f\"\\n=== {dataset.upper()} | {query} ===\")\n",
    "        print(\">> Baseline:\")\n",
    "        pprint(baseline_results[dataset][query])\n",
    "        print(\">> Advanced:\")\n",
    "        pprint(advanced_results[dataset][query])\n"
   ]
  },
  {
   "cell_type": "code",
   "execution_count": null,
   "id": "d0735ae9",
   "metadata": {},
   "outputs": [],
   "source": [
    "advanced_results = {}\n",
    "\n",
    "for dataset, qlist in queries.items():\n",
    "    advanced_results[dataset] = {}\n",
    "    for query in qlist:\n",
    "        print(f\"Running ADVANCED | {dataset} | {query}\")\n",
    "        output = evaluate(query, dataset, method=\"hybrid\", use_expansion=True, use_spell=True, use_index_filter=True)\n",
    "        advanced_results[dataset][query] = output[\"evaluation\"]\n"
   ]
  },
  {
   "cell_type": "code",
   "execution_count": null,
   "id": "74c8ee7d",
   "metadata": {},
   "outputs": [],
   "source": [
    "baseline_results = {}\n",
    "\n",
    "for dataset, qlist in queries.items():\n",
    "    baseline_results[dataset] = {}\n",
    "    for query in qlist:\n",
    "        print(f\"Running BASELINE | {dataset} | {query}\")\n",
    "        output = evaluate(query, dataset, method=\"hybrid\", use_expansion=False, use_spell=False, use_index_filter=False)\n",
    "        baseline_results[dataset][query] = output[\"evaluation\"]\n"
   ]
  },
  {
   "cell_type": "code",
   "execution_count": null,
   "id": "63a8c3f0",
   "metadata": {},
   "outputs": [],
   "source": [
    "queries = {\n",
    "    \"lifestyle\": [\n",
    "        \"how to reduce sugar intake\",\n",
    "        \"tips for better sleep\"\n",
    "    ],\n",
    "    \"wikIR1k\": [\n",
    "        \"history of artificial intelligence\",\n",
    "        \"climate change effects\"\n",
    "    ]\n",
    "}\n"
   ]
  },
  {
   "cell_type": "code",
   "execution_count": null,
   "id": "10c2a4a6",
   "metadata": {},
   "outputs": [],
   "source": [
    "import requests\n",
    "import matplotlib.pyplot as plt\n",
    "import numpy as np\n",
    "from pprint import pprint\n",
    "\n",
    "BASE_URL = \"http://127.0.0.1:8000\"\n",
    "\n",
    "def evaluate(query_text, dataset=\"lifestyle\", method=\"tfidf\", use_expansion=True, use_spell=True, use_index_filter=True):\n",
    "    response = requests.get(f\"{BASE_URL}/\", params={\n",
    "        \"q\": query_text,\n",
    "        \"dataset\": dataset,\n",
    "        \"method\": method,\n",
    "        \"use_expansion\": use_expansion,\n",
    "        \"use_spell\": use_spell,\n",
    "        \"use_index_filter\": use_index_filter\n",
    "    })\n",
    "    return response.json()\n"
   ]
  }
 ],
 "metadata": {
  "language_info": {
   "name": "python"
  }
 },
 "nbformat": 4,
 "nbformat_minor": 5
}
